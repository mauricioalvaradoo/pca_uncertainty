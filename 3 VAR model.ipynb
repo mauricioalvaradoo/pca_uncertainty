{
 "cells": [
  {
   "attachments": {},
   "cell_type": "markdown",
   "metadata": {},
   "source": [
    "### Construccion de un modelo VAR\n",
    "Tras haber creado el indice de incertidumbre, es interesante observar como interactua con otras series. Se usara un modelo con 6 variables\n",
    "\n",
    "* Precios de exportacion (var. % anual)\n",
    "* Incertidumbre (pts.)\n",
    "* Tipo de cambio nominal (var. % anual)\n",
    "* Inversion privada real (var. % anual)\n",
    "* Inflacion (%)\n",
    "* Tasa de referencia (%) "
   ]
  },
  {
   "cell_type": "code",
   "execution_count": 1,
   "metadata": {},
   "outputs": [],
   "source": [
    "import pandas as pd\n",
    "import numpy as np\n",
    "import matplotlib.pyplot as plt\n",
    "import api_bcrp "
   ]
  },
  {
   "cell_type": "code",
   "execution_count": null,
   "metadata": {},
   "outputs": [],
   "source": []
  }
 ],
 "metadata": {
  "kernelspec": {
   "display_name": "base",
   "language": "python",
   "name": "python3"
  },
  "language_info": {
   "codemirror_mode": {
    "name": "ipython",
    "version": 3
   },
   "file_extension": ".py",
   "mimetype": "text/x-python",
   "name": "python",
   "nbconvert_exporter": "python",
   "pygments_lexer": "ipython3",
   "version": "3.9.13"
  },
  "orig_nbformat": 4,
  "vscode": {
   "interpreter": {
    "hash": "a077222d77dfe082b8f1dd562ad70e458ac2ab76993a0b248ab0476e32e9e8dd"
   }
  }
 },
 "nbformat": 4,
 "nbformat_minor": 2
}
