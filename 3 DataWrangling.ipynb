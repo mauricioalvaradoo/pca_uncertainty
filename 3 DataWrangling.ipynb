{
 "cells": [
  {
   "attachments": {},
   "cell_type": "markdown",
   "metadata": {},
   "source": [
    "## Modificiones previo a la estimacion\n",
    "Tras haber creado el indice de incertidumbre, es interesante observar como interactua con otras series. Se usara un modelo con 5 variables\n",
    "\n",
    "* Precios de exportacion (var. % anual)\n",
    "* Incertidumbre (pts.)\n",
    "* Tipo de cambio nominal (var. % anual)\n",
    "* Inversion privada real (var. % anual)\n",
    "* Inflacion (%)"
   ]
  },
  {
   "cell_type": "code",
   "execution_count": 1,
   "metadata": {},
   "outputs": [],
   "source": [
    "import pandas as pd\n",
    "import numpy as np\n",
    "import matplotlib.pyplot as plt\n",
    "from api_bcrp import api_bcrp "
   ]
  },
  {
   "cell_type": "code",
   "execution_count": 2,
   "metadata": {},
   "outputs": [],
   "source": [
    "series=[\n",
    "    \"PN02522AQ\", #Inversión privada real var. % anual (trimestral)\n",
    "    \"PN01701BM\", #Precios de exportación Índice 2007=100 (mensual) \n",
    "    \"PN01207PM\", #Tipo de cambio PEN/US (mensual)\n",
    "    \"PN38705PM\" #IPC Dic2021=100 (mensual)\n",
    "]\n",
    "\n",
    "series_trimestrales = series[0:1]\n",
    "series_mensuales = series[1:5]"
   ]
  },
  {
   "attachments": {},
   "cell_type": "markdown",
   "metadata": {},
   "source": [
    "Importando mediante la funcion `api_bcrp`"
   ]
  },
  {
   "cell_type": "code",
   "execution_count": 3,
   "metadata": {},
   "outputs": [
    {
     "name": "stdout",
     "output_type": "stream",
     "text": [
      "Has importado tu variable PN02522AQ! \n",
      "\n"
     ]
    }
   ],
   "source": [
    "trim = api_bcrp(series_trimestrales, \"1999Q1\", \"2019Q4\")"
   ]
  },
  {
   "cell_type": "code",
   "execution_count": 4,
   "metadata": {},
   "outputs": [
    {
     "name": "stdout",
     "output_type": "stream",
     "text": [
      "Has importado tu variable PN01701BM! \n",
      "\n",
      "Has importado tu variable PN01207PM! \n",
      "\n",
      "Has importado tu variable PN38705PM! \n",
      "\n"
     ]
    }
   ],
   "source": [
    "mens = api_bcrp(series_mensuales, \"1999-01\", \"2019-12\")"
   ]
  },
  {
   "attachments": {},
   "cell_type": "markdown",
   "metadata": {},
   "source": [
    "Transformaremos las variables para tenerlas en trimestral y en variaciones anuales"
   ]
  },
  {
   "cell_type": "code",
   "execution_count": 5,
   "metadata": {},
   "outputs": [],
   "source": [
    "trim = trim.rename(columns={\n",
    "    \"PN02522AQ\": \"Inversión privada\"\n",
    "})\n",
    "\n",
    "\n",
    "mens = mens.rename(columns={\n",
    "    \"PN01701BM\": \"IPX\",\n",
    "    \"PN01207PM\": \"Tipo de cambio\",\n",
    "    \"PN38705PM\": \"IPC\"\n",
    "})"
   ]
  },
  {
   "cell_type": "code",
   "execution_count": 6,
   "metadata": {},
   "outputs": [],
   "source": [
    "# Trimestralizando\n",
    "mens = mens.resample('Q').mean()\n",
    "\n",
    "# Variaciones anuales\n",
    "mens[\"Depreciacion\"] = (mens[\"Tipo de cambio\"]/mens[\"Tipo de cambio\"].shift(4) - 1)*100\n",
    "mens[\"Inflacion\"] = (mens[\"IPC\"]/mens[\"IPC\"].shift(4) - 1)*100\n",
    "mens[\"IPX\"] = (mens[\"IPX\"]/mens[\"IPX\"].shift(4) - 1)*100\n",
    "\n",
    "# Filtrando desde el periodo 2003Q3\n",
    "mens = mens[mens.index>=\"2000-08-31\"]\n",
    "\n",
    "trim.index = trim.index.str[3:] + trim.index.str[:2]\n",
    "trim.sort_index(inplace=True)\n",
    "trim = trim.iloc[2:].reset_index()[[\"Inversión privada\"]]"
   ]
  },
  {
   "attachments": {},
   "cell_type": "markdown",
   "metadata": {},
   "source": [
    "Importamos las series de incertidumbre"
   ]
  },
  {
   "cell_type": "code",
   "execution_count": 7,
   "metadata": {},
   "outputs": [
    {
     "data": {
      "text/html": [
       "<div>\n",
       "<style scoped>\n",
       "    .dataframe tbody tr th:only-of-type {\n",
       "        vertical-align: middle;\n",
       "    }\n",
       "\n",
       "    .dataframe tbody tr th {\n",
       "        vertical-align: top;\n",
       "    }\n",
       "\n",
       "    .dataframe thead th {\n",
       "        text-align: right;\n",
       "    }\n",
       "</style>\n",
       "<table border=\"1\" class=\"dataframe\">\n",
       "  <thead>\n",
       "    <tr style=\"text-align: right;\">\n",
       "      <th></th>\n",
       "      <th>Date</th>\n",
       "      <th>VIX</th>\n",
       "    </tr>\n",
       "  </thead>\n",
       "  <tbody>\n",
       "    <tr>\n",
       "      <th>0</th>\n",
       "      <td>2000-09-30</td>\n",
       "      <td>18.263750</td>\n",
       "    </tr>\n",
       "    <tr>\n",
       "      <th>1</th>\n",
       "      <td>2000-12-31</td>\n",
       "      <td>26.037786</td>\n",
       "    </tr>\n",
       "    <tr>\n",
       "      <th>2</th>\n",
       "      <td>2001-03-31</td>\n",
       "      <td>25.608990</td>\n",
       "    </tr>\n",
       "    <tr>\n",
       "      <th>3</th>\n",
       "      <td>2001-06-30</td>\n",
       "      <td>24.006189</td>\n",
       "    </tr>\n",
       "    <tr>\n",
       "      <th>4</th>\n",
       "      <td>2001-09-30</td>\n",
       "      <td>26.414421</td>\n",
       "    </tr>\n",
       "    <tr>\n",
       "      <th>...</th>\n",
       "      <td>...</td>\n",
       "      <td>...</td>\n",
       "    </tr>\n",
       "    <tr>\n",
       "      <th>85</th>\n",
       "      <td>2021-12-31</td>\n",
       "      <td>19.241356</td>\n",
       "    </tr>\n",
       "    <tr>\n",
       "      <th>86</th>\n",
       "      <td>2022-03-31</td>\n",
       "      <td>25.299372</td>\n",
       "    </tr>\n",
       "    <tr>\n",
       "      <th>87</th>\n",
       "      <td>2022-06-30</td>\n",
       "      <td>27.306405</td>\n",
       "    </tr>\n",
       "    <tr>\n",
       "      <th>88</th>\n",
       "      <td>2022-09-30</td>\n",
       "      <td>24.814752</td>\n",
       "    </tr>\n",
       "    <tr>\n",
       "      <th>89</th>\n",
       "      <td>2022-12-31</td>\n",
       "      <td>25.144339</td>\n",
       "    </tr>\n",
       "  </tbody>\n",
       "</table>\n",
       "<p>90 rows × 2 columns</p>\n",
       "</div>"
      ],
      "text/plain": [
       "         Date        VIX\n",
       "0  2000-09-30  18.263750\n",
       "1  2000-12-31  26.037786\n",
       "2  2001-03-31  25.608990\n",
       "3  2001-06-30  24.006189\n",
       "4  2001-09-30  26.414421\n",
       "..        ...        ...\n",
       "85 2021-12-31  19.241356\n",
       "86 2022-03-31  25.299372\n",
       "87 2022-06-30  27.306405\n",
       "88 2022-09-30  24.814752\n",
       "89 2022-12-31  25.144339\n",
       "\n",
       "[90 rows x 2 columns]"
      ]
     },
     "execution_count": 7,
     "metadata": {},
     "output_type": "execute_result"
    }
   ],
   "source": [
    "vix = pd.read_excel(\"./Base de datos/vix.xlsx\", sheet_name=\"Trimestral\", index_col=\"Date\")\n",
    "pca = pd.read_excel(\"./Base de datos/PCA.xlsx\", sheet_name=\"Trimestral\", index_col=\"Date\")\n",
    "\n",
    "vix = vix[vix.index>=\"2000-08-31\"].reset_index()\n",
    "pca = pca[pca.index>=\"2000-08-31\"].reset_index()\n",
    "vix"
   ]
  },
  {
   "attachments": {},
   "cell_type": "markdown",
   "metadata": {},
   "source": [
    "Unimos las bases de datos"
   ]
  },
  {
   "cell_type": "code",
   "execution_count": 8,
   "metadata": {},
   "outputs": [
    {
     "data": {
      "text/html": [
       "<div>\n",
       "<style scoped>\n",
       "    .dataframe tbody tr th:only-of-type {\n",
       "        vertical-align: middle;\n",
       "    }\n",
       "\n",
       "    .dataframe tbody tr th {\n",
       "        vertical-align: top;\n",
       "    }\n",
       "\n",
       "    .dataframe thead th {\n",
       "        text-align: right;\n",
       "    }\n",
       "</style>\n",
       "<table border=\"1\" class=\"dataframe\">\n",
       "  <thead>\n",
       "    <tr style=\"text-align: right;\">\n",
       "      <th></th>\n",
       "      <th>IPX</th>\n",
       "      <th>Depreciacion</th>\n",
       "      <th>Inflacion</th>\n",
       "      <th>VIX</th>\n",
       "      <th>PCA</th>\n",
       "      <th>Inversión privada</th>\n",
       "    </tr>\n",
       "    <tr>\n",
       "      <th>Date</th>\n",
       "      <th></th>\n",
       "      <th></th>\n",
       "      <th></th>\n",
       "      <th></th>\n",
       "      <th></th>\n",
       "      <th></th>\n",
       "    </tr>\n",
       "  </thead>\n",
       "  <tbody>\n",
       "    <tr>\n",
       "      <th>2000-09-30</th>\n",
       "      <td>6.083613</td>\n",
       "      <td>3.359590</td>\n",
       "      <td>3.710886</td>\n",
       "      <td>18.263750</td>\n",
       "      <td>-0.803214</td>\n",
       "      <td>-6.970631</td>\n",
       "    </tr>\n",
       "    <tr>\n",
       "      <th>2000-12-31</th>\n",
       "      <td>-1.458325</td>\n",
       "      <td>1.056022</td>\n",
       "      <td>4.001129</td>\n",
       "      <td>26.037786</td>\n",
       "      <td>0.284309</td>\n",
       "      <td>-3.419365</td>\n",
       "    </tr>\n",
       "    <tr>\n",
       "      <th>2001-03-31</th>\n",
       "      <td>-2.838051</td>\n",
       "      <td>1.666440</td>\n",
       "      <td>3.683259</td>\n",
       "      <td>25.608990</td>\n",
       "      <td>0.922136</td>\n",
       "      <td>-10.848616</td>\n",
       "    </tr>\n",
       "    <tr>\n",
       "      <th>2001-06-30</th>\n",
       "      <td>-2.367960</td>\n",
       "      <td>2.120980</td>\n",
       "      <td>2.587177</td>\n",
       "      <td>24.006189</td>\n",
       "      <td>0.166506</td>\n",
       "      <td>-0.423988</td>\n",
       "    </tr>\n",
       "    <tr>\n",
       "      <th>2001-09-30</th>\n",
       "      <td>-4.549860</td>\n",
       "      <td>0.405307</td>\n",
       "      <td>1.465562</td>\n",
       "      <td>26.414421</td>\n",
       "      <td>0.417470</td>\n",
       "      <td>1.657060</td>\n",
       "    </tr>\n",
       "    <tr>\n",
       "      <th>...</th>\n",
       "      <td>...</td>\n",
       "      <td>...</td>\n",
       "      <td>...</td>\n",
       "      <td>...</td>\n",
       "      <td>...</td>\n",
       "      <td>...</td>\n",
       "    </tr>\n",
       "    <tr>\n",
       "      <th>2018-12-31</th>\n",
       "      <td>-5.890072</td>\n",
       "      <td>3.452416</td>\n",
       "      <td>2.066755</td>\n",
       "      <td>21.231460</td>\n",
       "      <td>-0.798546</td>\n",
       "      <td>1.140884</td>\n",
       "    </tr>\n",
       "    <tr>\n",
       "      <th>2019-03-31</th>\n",
       "      <td>-8.484282</td>\n",
       "      <td>2.611762</td>\n",
       "      <td>2.126855</td>\n",
       "      <td>16.430785</td>\n",
       "      <td>-1.279382</td>\n",
       "      <td>2.908110</td>\n",
       "    </tr>\n",
       "    <tr>\n",
       "      <th>2019-06-30</th>\n",
       "      <td>-5.393379</td>\n",
       "      <td>1.905102</td>\n",
       "      <td>2.537244</td>\n",
       "      <td>15.168955</td>\n",
       "      <td>-1.797518</td>\n",
       "      <td>5.603677</td>\n",
       "    </tr>\n",
       "    <tr>\n",
       "      <th>2019-09-30</th>\n",
       "      <td>0.202843</td>\n",
       "      <td>1.503909</td>\n",
       "      <td>2.000737</td>\n",
       "      <td>15.948000</td>\n",
       "      <td>-0.883438</td>\n",
       "      <td>9.104277</td>\n",
       "    </tr>\n",
       "    <tr>\n",
       "      <th>2019-12-31</th>\n",
       "      <td>0.670688</td>\n",
       "      <td>0.126324</td>\n",
       "      <td>1.882495</td>\n",
       "      <td>13.915563</td>\n",
       "      <td>-0.635906</td>\n",
       "      <td>0.707004</td>\n",
       "    </tr>\n",
       "  </tbody>\n",
       "</table>\n",
       "<p>78 rows × 6 columns</p>\n",
       "</div>"
      ],
      "text/plain": [
       "                 IPX  Depreciacion  Inflacion        VIX       PCA  \\\n",
       "Date                                                                 \n",
       "2000-09-30  6.083613      3.359590   3.710886  18.263750 -0.803214   \n",
       "2000-12-31 -1.458325      1.056022   4.001129  26.037786  0.284309   \n",
       "2001-03-31 -2.838051      1.666440   3.683259  25.608990  0.922136   \n",
       "2001-06-30 -2.367960      2.120980   2.587177  24.006189  0.166506   \n",
       "2001-09-30 -4.549860      0.405307   1.465562  26.414421  0.417470   \n",
       "...              ...           ...        ...        ...       ...   \n",
       "2018-12-31 -5.890072      3.452416   2.066755  21.231460 -0.798546   \n",
       "2019-03-31 -8.484282      2.611762   2.126855  16.430785 -1.279382   \n",
       "2019-06-30 -5.393379      1.905102   2.537244  15.168955 -1.797518   \n",
       "2019-09-30  0.202843      1.503909   2.000737  15.948000 -0.883438   \n",
       "2019-12-31  0.670688      0.126324   1.882495  13.915563 -0.635906   \n",
       "\n",
       "            Inversión privada  \n",
       "Date                           \n",
       "2000-09-30          -6.970631  \n",
       "2000-12-31          -3.419365  \n",
       "2001-03-31         -10.848616  \n",
       "2001-06-30          -0.423988  \n",
       "2001-09-30           1.657060  \n",
       "...                       ...  \n",
       "2018-12-31           1.140884  \n",
       "2019-03-31           2.908110  \n",
       "2019-06-30           5.603677  \n",
       "2019-09-30           9.104277  \n",
       "2019-12-31           0.707004  \n",
       "\n",
       "[78 rows x 6 columns]"
      ]
     },
     "execution_count": 8,
     "metadata": {},
     "output_type": "execute_result"
    }
   ],
   "source": [
    "data = mens[[\"IPX\", \"Depreciacion\", \"Inflacion\"]].reset_index()\n",
    "data = data.rename(columns={\"time\": \"Date\"})\n",
    "\n",
    "# Uniones\n",
    "data = data.merge(vix).merge(pca)\n",
    "data[\"Inversión privada\"] = trim\n",
    "\n",
    "# Setting fecha\n",
    "data.set_index(\"Date\", inplace=True)\n",
    "\n",
    "data"
   ]
  },
  {
   "attachments": {},
   "cell_type": "markdown",
   "metadata": {},
   "source": [
    "Finalmente, solo para que ambas variables sean comparables, se decidió modificar el índice VIX y el PCA para mantener una misma dimensión"
   ]
  },
  {
   "cell_type": "code",
   "execution_count": 9,
   "metadata": {},
   "outputs": [],
   "source": [
    "data[\"VIX\"] = ((data[\"VIX\"] - data[\"VIX\"].mean())/ data[\"VIX\"].std())*10\n",
    "data[\"PCA\"] = ((data[\"PCA\"] - data[\"PCA\"].mean())/ data[\"PCA\"].std())*10"
   ]
  },
  {
   "cell_type": "code",
   "execution_count": 10,
   "metadata": {},
   "outputs": [],
   "source": [
    "data.to_excel(\"./Base de datos/data_f.xlsx\")"
   ]
  }
 ],
 "metadata": {
  "kernelspec": {
   "display_name": "base",
   "language": "python",
   "name": "python3"
  },
  "language_info": {
   "codemirror_mode": {
    "name": "ipython",
    "version": 3
   },
   "file_extension": ".py",
   "mimetype": "text/x-python",
   "name": "python",
   "nbconvert_exporter": "python",
   "pygments_lexer": "ipython3",
   "version": "3.9.13"
  },
  "orig_nbformat": 4,
  "vscode": {
   "interpreter": {
    "hash": "a077222d77dfe082b8f1dd562ad70e458ac2ab76993a0b248ab0476e32e9e8dd"
   }
  }
 },
 "nbformat": 4,
 "nbformat_minor": 2
}
